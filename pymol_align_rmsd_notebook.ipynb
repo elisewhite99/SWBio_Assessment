{
 "cells": [
  {
   "cell_type": "markdown",
   "metadata": {},
   "source": [
    "## Using PyMOL for alignment and RMSD calculation of enzyme-complex structures from docking experiments"
   ]
  },
  {
   "cell_type": "markdown",
   "metadata": {},
   "source": [
    "#### Step 1: Import Pymol python package\n",
    "Firstly, you need to make sure the PyMOL package is installed. If not, before starting, in the Anaconda prompt type: 'conda install -c schrodinger pymol' to install it. \n",
    "\n",
    "The below code was simplified from a CompBioMed e-seminar in which opening PyMOL was demonstrated: “Molecular Visualisation using PyMOL” (https://www.compbiomed.eu/compbiomed-e-seminar-14/). Their code opened the PyMOL GUI, but this component was removed once I knew that the code was working.\n"
   ]
  },
  {
   "cell_type": "code",
   "execution_count": null,
   "metadata": {},
   "outputs": [],
   "source": [
    "import pymol \n",
    "from pymol import cmd"
   ]
  },
  {
   "cell_type": "markdown",
   "metadata": {},
   "source": [
    "#### Step 2: Load the pdb files for all protein structures\n",
    "The glob module finds all the pathnames matching a specified pattern according to the rules of the Unix shell - in this case *.pdb.\n",
    "\n",
    "The absolute file path for where the files are stored on my computer is included for ease for me of copying and pasting it. You will need to input the pathname to where the files are downloaded. Ensure this is absolutely correct, otherwise step 3 will not work.\n",
    "\n",
    "cmd.load() is the pymol command to load .pdb files into PyMOL\n",
    "\n",
    "As the PyMOL GUI is not being used it will give the following message: 'PyMOL not running, entering library mode (experimental)'. This is expected."
   ]
  },
  {
   "cell_type": "code",
   "execution_count": null,
   "metadata": {},
   "outputs": [],
   "source": [
    "import glob \n",
    "\n",
    "file_path = input('Please copy and paste absolute file path for .pdb protein files e.g. C:/Users/ew17435/OneDrive - University of Bristol/Documents/SWBio PhD/Year 1/Data Science and Machine Learning/Assessment/SWBio_Assessment/Sample Data/')\n",
    "\n",
    "file_list = glob.glob(file_path + '*.pdb')\n",
    "\n",
    "for protein in file_list:\n",
    "    cmd.load(protein) \n",
    "\n",
    "print(\"(loading .pdb files complete)\")"
   ]
  },
  {
   "cell_type": "markdown",
   "metadata": {},
   "source": [
    "#### Step 3:  Align actKR of each HADDOCK structure to the actKR of M14\n",
    "The function align_all_to_M14actKR is defined and then run. \n",
    "\n",
    "cmd.align() is the PyMOL align command.\n",
    "\n",
    "The target needs to be specified when the function is recalled. This allows the target to be changed. For example, to another model from BUDE docking called M17."
   ]
  },
  {
   "cell_type": "code",
   "execution_count": null,
   "metadata": {},
   "outputs": [],
   "source": [
    "def align_all_to_targetactKR(target, mobile_selection='c. B and n. CA+C+N+O', target_selection='c. B and n. CA+C+N+O'):\n",
    "    \n",
    "    object_list = cmd.get_names()\n",
    "    object_list.remove(target)\n",
    "\n",
    "    for object in range(len(object_list)):\n",
    "        align = cmd.align('%s & %s'%(object_list[object],mobile_selection),'%s & %s'%(target,target_selection))\n",
    "        \n",
    "    \n",
    "align_all_to_targetactKR('M14')\n",
    "\n",
    "print(\"(alignment to M14 actKR complete)\")"
   ]
  },
  {
   "cell_type": "markdown",
   "metadata": {},
   "source": [
    "#### Step 4: Calculate RMSD for actACP between HADDOCK structures and M14\n",
    "\n",
    "This is the code in which I define my own RMSD function using numpy arrays - the preferred approach which is included in the script:"
   ]
  },
  {
   "cell_type": "code",
   "execution_count": null,
   "metadata": {},
   "outputs": [],
   "source": [
    "from pymol import stored\n",
    "from pymol import selector\n",
    "\n",
    "def get_xyz( UserSelection ):  \n",
    "    \n",
    "    stored.BackboneAtoms = []\n",
    "    \n",
    "    userSelection = UserSelection + ' and c. A and n. CA+C+N+O' #initially had 'and c. A' which didn't work as there wasn't a space before the 'and'\n",
    "    \n",
    "    cmd.iterate_state(1, selector.process(userSelection), \"stored.BackboneAtoms.append([x,y,z])\")\n",
    "    \n",
    "    return stored.BackboneAtoms\n",
    "\n",
    "\n",
    "import numpy as np\n",
    "      \n",
    "def calculate_rmsd( target ):\n",
    "    M14_xyz = get_xyz( target )\n",
    "\n",
    "    object_list = cmd.get_names()\n",
    "    object_list.remove(target)\n",
    "\n",
    "    rmsd_list = [] \n",
    "    for protein in object_list:\n",
    "            xyz = get_xyz(protein)\n",
    "            rmsd = np.sqrt(np.sum((np.array(M14_xyz)-np.array(xyz))**2)/len(xyz))  \n",
    "            rmsd_list.append((protein, rmsd))\n",
    "\n",
    "    rmsd_list_sorted = sorted(rmsd_list,key=lambda x: x[1])\n",
    "    \n",
    "    print('RMSD of', target, 'actACP onto:')\n",
    "    for x in rmsd_list_sorted:\n",
    "        print(x[0], 'actACP =', x[1])\n",
    "    \n",
    "    \n",
    "calculate_rmsd('M14')\n",
    "\n",
    "\n",
    "print(\"Analysis complete\")"
   ]
  },
  {
   "cell_type": "markdown",
   "metadata": {},
   "source": [
    "This is the original code for the calculate_rmsd function which uses nested lists, rather than numpy arrays. "
   ]
  },
  {
   "cell_type": "code",
   "execution_count": null,
   "metadata": {},
   "outputs": [],
   "source": [
    "from pymol import stored\n",
    "from pymol import selector\n",
    "\n",
    "def get_xyz( UserSelection ):  \n",
    "    \n",
    "    stored.BackboneAtoms = []\n",
    "    \n",
    "    userSelection = UserSelection + ' and c. A and n. CA+C+N+O' #initially had 'and c. A' which didn't work as there wasn't a space before the 'and'\n",
    "    \n",
    "    cmd.iterate_state(1, selector.process(userSelection), \"stored.BackboneAtoms.append([x,y,z])\")\n",
    "    \n",
    "    return stored.BackboneAtoms\n",
    "\n",
    "\n",
    "import numpy as np\n",
    "      \n",
    "\n",
    "def calculate_rmsd( target ):\n",
    "    M14_xyz = get_xyz(target)\n",
    "\n",
    "    object_list = cmd.get_names()\n",
    "    object_list.remove(target)\n",
    "    \n",
    "    calculated_rmsd_list = []\n",
    "\n",
    "    for protein in object_list:\n",
    "        xyz = get_xyz(protein)\n",
    "        sum = 0\n",
    "        for i in range(len(xyz)):\n",
    "            sum += (np.square(M14_xyz[i][0] - xyz[i][0]) + np.square(M14_xyz[i][1] - xyz[i][1]) + np.square(M14_xyz[i][2] - xyz[i][2]))\n",
    "            #it took a while to work out which components of the nested lists were required in the sum calculation.\n",
    "        calculated_rmsd = np.sqrt(1/len(xyz) * sum)          \n",
    "        calculated_rmsd_list.append((protein, calculated_rmsd))\n",
    "    \n",
    "    calculated_rmsd_list_sorted = sorted(calculated_rmsd_list,key=lambda x: x[1])\n",
    "   \n",
    "    print('RMSD of M14 actACP onto:')\n",
    "    for x in calculated_rmsd_list_sorted:\n",
    "        print(x[0], 'actACP =', x[1])\n",
    "\n",
    "calculate_rmsd('M14')\n",
    "    "
   ]
  },
  {
   "cell_type": "markdown",
   "metadata": {},
   "source": [
    "This is code which uses the PyMOL cmd.rms_cur command which was the initial approach for RMSD calculation **(FYI only)**:\n"
   ]
  },
  {
   "cell_type": "code",
   "execution_count": null,
   "metadata": {},
   "outputs": [],
   "source": [
    "def rmsd_actACP(object1='M14', object1_selection='c. A & n. n+ca+c+o', object2_selection='c. A & n. n+ca+c+o'):\n",
    "    \n",
    "    object_2 = cmd.get_names()\n",
    "    object_2.remove('M14')\n",
    "    \n",
    "    rmsd_list = [] #originally included this in the for loop which didn't work\n",
    "\n",
    "    for i in range(len(object_2)):      \n",
    "        rmsd = cmd.rms_cur('%s & %s'%(object1,object1_selection),'%s & %s'%(object_2[i],object2_selection), matchmaker=-1)\n",
    "        rmsd_list.append((object_2[i],rmsd))\n",
    "    \n",
    "    rmsd_list_sorted = sorted(rmsd_list,key=lambda x: x[1])\n",
    "\n",
    "    print('RMSD of M14 actACP onto:')\n",
    "    for x in rmsd_list_sorted:\n",
    "        print(x[0], 'actACP =', x[1])\n",
    "                              \n",
    "                         \n",
    "rmsd_actACP()"
   ]
  }
 ],
 "metadata": {
  "kernelspec": {
   "display_name": "Python 3",
   "language": "python",
   "name": "python3"
  },
  "language_info": {
   "codemirror_mode": {
    "name": "ipython",
    "version": 3
   },
   "file_extension": ".py",
   "mimetype": "text/x-python",
   "name": "python",
   "nbconvert_exporter": "python",
   "pygments_lexer": "ipython3",
   "version": "3.8.5"
  }
 },
 "nbformat": 4,
 "nbformat_minor": 4
}
